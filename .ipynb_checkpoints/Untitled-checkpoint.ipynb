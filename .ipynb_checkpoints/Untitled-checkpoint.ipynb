{
 "cells": [
  {
   "cell_type": "code",
   "execution_count": 89,
   "id": "6d1876d9-3bcf-4492-8ec4-fa1b33a04736",
   "metadata": {},
   "outputs": [],
   "source": [
    "import subprocess\n",
    "from torch.utils.data import Dataset\n",
    "import json\n",
    "from typing import Optional\n",
    "\n",
    "class LeanDataset(Dataset):\n",
    "    def __init__(self, cwd = \".\"):\n",
    "        self.cwd = cwd\n",
    "        self.process = subprocess.Popen(\n",
    "            [\"lake\", \"exe\", \"lean_dataset\"],\n",
    "            stdin=subprocess.PIPE,\n",
    "            stdout=subprocess.PIPE,\n",
    "            stderr=subprocess.PIPE,\n",
    "            text=True,  # Use text mode for input and output.\n",
    "            cwd=self.cwd\n",
    "        )\n",
    "        self.initialMetadata = json.loads(self.read_output())\n",
    "\n",
    "    def send_input(self, input_data: str):\n",
    "        \"\"\"\n",
    "        Sends input to the child process's stdin.\n",
    "\n",
    "        :param input_data: The input data to send to the process.\n",
    "        \"\"\"\n",
    "        if self.process.stdin:\n",
    "            self.process.stdin.write(input_data + \"\\n\")\n",
    "            self.process.stdin.flush()\n",
    "\n",
    "    def read_output(self) -> str:\n",
    "        \"\"\"\n",
    "        Reads the next line of output from the child process's stdout.\n",
    "\n",
    "        :return: A line of output from stdout.\n",
    "        \"\"\"\n",
    "        if self.process.stdout:\n",
    "            return self.process.stdout.readline()\n",
    "        return \"\"\n",
    "\n",
    "    def read_error(self) -> str:\n",
    "        \"\"\"\n",
    "        Reads the next line of output from the child process's stderr.\n",
    "\n",
    "        :return: A line of output from stderr.\n",
    "        \"\"\"\n",
    "        if self.process.stderr:\n",
    "            return self.process.stderr.readline()\n",
    "        return \"\"\n",
    "\n",
    "    def wait_for_completion(self) -> int:\n",
    "        \"\"\"\n",
    "        Waits for the process to terminate and returns the exit code.\n",
    "\n",
    "        :return: The exit code of the process.\n",
    "        \"\"\"\n",
    "        return self.process.wait()\n",
    "        \n",
    "    def __len__(self):\n",
    "        return self.initialMetadata['len']\n",
    "\n",
    "    def __getitem__(self, index):\n",
    "        self.send_input(json.dumps({ \"index\" : index }))\n",
    "        return json.loads(self.read_output())"
   ]
  },
  {
   "cell_type": "code",
   "execution_count": 94,
   "id": "43a48186-e63c-465e-8143-755222807097",
   "metadata": {},
   "outputs": [],
   "source": [
    "data = LeanDataset(\"/home/adam/Projects/lean_dataset\")"
   ]
  },
  {
   "cell_type": "code",
   "execution_count": 95,
   "id": "905008c5-678b-4af1-bea9-9bfc22066023",
   "metadata": {},
   "outputs": [
    {
     "data": {
      "text/plain": [
       "10"
      ]
     },
     "execution_count": 95,
     "metadata": {},
     "output_type": "execute_result"
    }
   ],
   "source": [
    "len(data)"
   ]
  },
  {
   "cell_type": "code",
   "execution_count": 96,
   "id": "c72b5be2-db6d-42ff-b05e-8369be49c3a3",
   "metadata": {},
   "outputs": [
    {
     "data": {
      "text/plain": [
       "{'res': {'index': 123}}"
      ]
     },
     "execution_count": 96,
     "metadata": {},
     "output_type": "execute_result"
    }
   ],
   "source": [
    "data[123]"
   ]
  },
  {
   "cell_type": "code",
   "execution_count": null,
   "id": "7a942ef6-9c5e-4737-8701-8153acc17bb2",
   "metadata": {},
   "outputs": [],
   "source": []
  }
 ],
 "metadata": {
  "kernelspec": {
   "display_name": "Python 3 (ipykernel)",
   "language": "python",
   "name": "python3"
  },
  "language_info": {
   "codemirror_mode": {
    "name": "ipython",
    "version": 3
   },
   "file_extension": ".py",
   "mimetype": "text/x-python",
   "name": "python",
   "nbconvert_exporter": "python",
   "pygments_lexer": "ipython3",
   "version": "3.11.8"
  }
 },
 "nbformat": 4,
 "nbformat_minor": 5
}
